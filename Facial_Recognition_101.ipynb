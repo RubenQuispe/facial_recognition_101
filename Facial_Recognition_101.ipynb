{
 "cells": [
  {
   "cell_type": "markdown",
   "metadata": {},
   "source": [
    "# How does Facial Recognition work?\n",
    "<h2></h2>\n",
    "<center><img src=\"./notebook_images/kyle-glenn-MbPDSi0ILMo-unsplash.jpg\" alt=\"FacePicture\" style=\"width: 60%;\"/></center>\n",
    "\n",
    "Photo by Kyle Glenn on Unsplash\n",
    "\n",
    "<a style=\"background-color:black;color:white;text-decoration:none;padding:4px 6px;font-family:-apple-system, BlinkMacSystemFont, &quot;San Francisco&quot;, &quot;Helvetica Neue&quot;, Helvetica, Ubuntu, Roboto, Noto, &quot;Segoe UI&quot;, Arial, sans-serif;font-size:12px;font-weight:bold;line-height:1.2;display:inline-block;border-radius:3px\" href=\"https://unsplash.com/@kylejglenn?utm_medium=referral&amp;utm_campaign=photographer-credit&amp;utm_content=creditBadge\" target=\"_blank\" rel=\"noopener noreferrer\" title=\"Download free do whatever you want high-resolution photos from Kyle Glenn\"><span style=\"display:inline-block;padding:2px 3px\"><svg xmlns=\"http://www.w3.org/2000/svg\" style=\"height:12px;width:auto;position:relative;vertical-align:middle;top:-2px;fill:white\" viewBox=\"0 0 32 32\"><title>unsplash-logo</title><path d=\"M10 9V0h12v9H10zm12 5h10v18H0V14h10v9h12v-9z\"></path></svg></span><span style=\"display:inline-block;padding:2px 3px\">Kyle Glenn</span></a>"
   ]
  },
  {
   "cell_type": "markdown",
   "metadata": {},
   "source": [
    "Everyone's face is different, and yet they are all roughly the same.\n",
    "\n",
    "It is easy for humans, and even animals, to recognize faces but how would you instruct a computer to do the same?\n",
    "\n",
    "<font size=\"4\">That is the question we are going to answer in this notebook.</font>"
   ]
  },
  {
   "cell_type": "markdown",
   "metadata": {},
   "source": [
    "## Overview"
   ]
  },
  {
   "cell_type": "markdown",
   "metadata": {},
   "source": [
    "<center><img src=\"./notebook_images/BigNineCover-193x300.jpg\" alt=\"FacePicture\" style=\"width: 25%;\"/></center>"
   ]
  },
  {
   "cell_type": "markdown",
   "metadata": {},
   "source": [
    "Amy Webb - author of *The Big Nine* talks about the 9 global companies that are responsible for the majority of the AI research being done today.  The US has 6, which Amy calls the *g-mafia*, and they are:\n",
    "\n",
    "* Google\n",
    "* Microsoft\n",
    "* Amazon\n",
    "* IBM\n",
    "* Apple\n",
    "* Facebook\n",
    "\n",
    "and 3 in China called the BAT:\n",
    "\n",
    "* Baidu\n",
    "* Alibaba\n",
    "* Tencent\n",
    "\n",
    "Amy Webb points out that these companies, and the countries and governments these companies operate in are shaping the future of the world we live in.  \n",
    "\n",
    "One aspect of that shaping is facial recognition.\n"
   ]
  },
  {
   "cell_type": "markdown",
   "metadata": {
    "heading_collapsed": true
   },
   "source": [
    "### Controversy of Facial Recognition\n",
    "\n",
    "<div style=\"height: 20px\"></div>\n",
    "    \n",
    "<center><font size=\"5\">Who owns your face? </font></center>\n",
    "\n",
    "This exact question was asked in an [ACM article](https://cacm.acm.org/news/237592-who-owns-your-face/fulltext) and there is no good answer right now.  We give away our most recognizable attribute every day on social media platforms. Digital representations of our faces are being collected, bought, sold and stored because there are no real restrictions on it.   \n",
    "\n",
    "[My Medium article](https://towardsdatascience.com/using-linkedin-profile-pictures-for-facial-recognition-8be709e8fac) shows on how to perform facial recognition on a single LinkedIn Profile picture.\n",
    "\n",
    "<div style=\"height: 20px\"></div>\n",
    "    \n",
    "<center><font size=\"5\">Social Credit Scoring System </font></center>\n",
    "\n",
    "Today China is working toward a 'Social Credit Scoring System' as reference by Amy Webb and others:\n",
    "\n",
    "* See *The Big Nine*\n",
    "\n",
    "* https://www.cbc.ca/radio/thecurrent/the-current-for-march-7-2019-1.5046443/how-china-s-social-credit-system-blocked-millions-of-people-from-travelling-1.5046445\n",
    "\n",
    "* https://www.wired.com/story/china-social-credit-score-system/\n",
    "\n",
    "According to the official Chinese blueprint is states:\n",
    "\n",
    "\"... it will ‘allow the trustworthy to roam everywhere under heaven while making it hard for the discredited to take a single step. ...\"\n",
    "\n",
    "To do this China is using Facial Recognition, and other technologies, on a massive scale.  China is using this technology to social engineer behavior.\n",
    "\n",
    "However, so too are the g-mafia.  Maybe not to create a social credit scoring system, but for what purpose are they using our most highly personal and highly recognizable attribute - our faces.\n",
    "\n",
    "\n",
    "*The Big Nine* is a non-technical book that everyone can read and understand.  I would highly recommend this book to anyone wanting to understand the state of AI today.\n",
    "\n"
   ]
  },
  {
   "cell_type": "markdown",
   "metadata": {
    "hidden": true
   },
   "source": [
    "The purpose of the overview is not to unnecessarily scare people - but being a little afraid concerning how for profit companies with an allegiance to shareholders and not to the country in which they do business, should be concerning.\n",
    "\n",
    "This notebook will show how facial recognition works and demonstrate just how easy it is to train a model to recognize anyone with as a little as a single picture.\n",
    "\n",
    "If Facial Recognition technology is so pervasive it would be in everyone's best interest to understand at least the basics of how it work."
   ]
  },
  {
   "cell_type": "markdown",
   "metadata": {
    "hidden": true
   },
   "source": [
    "This notebook will show code snippets of the relevant parts of the facial recognition process.  For full details see the scripts that are in the github repo backing this notebook."
   ]
  },
  {
   "cell_type": "markdown",
   "metadata": {},
   "source": [
    "## Facial Recognition Background"
   ]
  },
  {
   "cell_type": "markdown",
   "metadata": {},
   "source": [
    "In 2001 Paul Viola and Michael Jones created a object detection algorithm.  Although generic its focus was on faces.  Since then, more reliable solutions have been discovered.  \n",
    "\n",
    "In 2005 an algorithm called:  **histogram of oriented gradients** or just **HOG** for short was developed and it was much more reliable and faster.  \n",
    "Since then CNN models have been trained to locate faces - with even greater accuracy but at the expense of compute time.  Using the **HOG** algorithm is a good balance between accuracy and compute effiency.  \n",
    "\n",
    "Using a **HOG** algorithm can even be run on small computing devices such as a raspberry pi."
   ]
  },
  {
   "cell_type": "markdown",
   "metadata": {},
   "source": [
    "Facial recognition can be broken down into the following steps:\n",
    "\n",
    "* Find all faces in a picture\n",
    "\n",
    "* Determine 68 Facial Landmarks\n",
    "\n",
    "* Encode 68 Facial Landmarks into vector of 128 values\n",
    "\n",
    "* Compare the unique features of the new, previously unseen face - with the faces that the model has been trained on to see which of the known faces the new face is most similiar to."
   ]
  },
  {
   "cell_type": "markdown",
   "metadata": {},
   "source": [
    "### Step 1: Finding all of the faces"
   ]
  },
  {
   "cell_type": "markdown",
   "metadata": {},
   "source": [
    "<center><img src=\"./notebook_images/just_a_face.png\" alt=\"FacePicture\" style=\"width: 40%;\"/></center>"
   ]
  },
  {
   "cell_type": "markdown",
   "metadata": {},
   "source": [
    "To find faces in a picture we start by converting any color picture to black and white.  The RGB values provide no additional information.\n",
    "\n",
    "Then, for every pixel examine the pixels immediately adjacent and find the pixel that is the darkest and 'draw' an arrow in that direction.\n",
    "\n",
    "Doing this for every pixel shows the flow of light intensity from light to darker.  These arrows are called gradients.  The gradients, or changes in pixel density, are a better way to analyze images because lighter or darker images are not as impacted by changes in color or brightness.  \n",
    "\n",
    "If we looked just at pixel values a really bright or light picture would be considered different from a dark picture even if they are of the same person.  However the gradients would remain relatively the same.\n"
   ]
  },
  {
   "cell_type": "markdown",
   "metadata": {},
   "source": [
    "Keeping track of the gradients for every single pixel is a lot of data - therefore images are generally broken up into 16x16 segments.  In each segment, the direction of the gradients are tallied and the 16x16 image segment is replaced by the most prevalent gradient."
   ]
  },
  {
   "cell_type": "markdown",
   "metadata": {},
   "source": [
    "<center><img src=\"./notebook_images/hog_example.png\" alt=\"FacePicture\" style=\"width: 100%;\"/></center>"
   ]
  },
  {
   "cell_type": "markdown",
   "metadata": {},
   "source": [
    "Lets look at what the resulting HOG would look like from the video camera"
   ]
  },
  {
   "cell_type": "code",
   "execution_count": null,
   "metadata": {
    "ExecuteTime": {
     "end_time": "2019-09-22T19:07:40.617362Z",
     "start_time": "2019-09-22T19:07:19.314695Z"
    }
   },
   "outputs": [],
   "source": [
    "%%bash \n",
    "python video_hog.py -t 20"
   ]
  },
  {
   "cell_type": "markdown",
   "metadata": {},
   "source": [
    "```python\n",
    "from skimage.feature import hog\n",
    "\n",
    "fd, hog_image = hog(image, orientations=8, pixels_per_cell=(16, 16),\n",
    "                        cells_per_block=(1, 1), visualize=True, multichannel=True)\n",
    "cv2.imshow(\"HOG\", hog_image)\n",
    "\n",
    "```"
   ]
  },
  {
   "cell_type": "markdown",
   "metadata": {},
   "source": [
    "Now - lets apply facial detection to show where the faces are detected.\n",
    "\n",
    "The libraries *face_recognition* and *dlib* provide a programatic interface to the pre-trained models that can take a HOG and determine the area of the face."
   ]
  },
  {
   "cell_type": "markdown",
   "metadata": {},
   "source": [
    "<center><img src=\"./notebook_images/hog_face_example.png\" alt=\"FacePicture\" style=\"width: 100%;\"/></center>"
   ]
  },
  {
   "cell_type": "code",
   "execution_count": null,
   "metadata": {
    "ExecuteTime": {
     "end_time": "2019-09-22T19:08:28.173553Z",
     "start_time": "2019-09-22T19:08:00.711899Z"
    }
   },
   "outputs": [],
   "source": [
    "%%bash \n",
    "python video_hog_face_detect.py -t 25"
   ]
  },
  {
   "cell_type": "markdown",
   "metadata": {},
   "source": [
    "```python\n",
    "def detect_mark_faces(frame, hog_image):\n",
    "    boxes = face_recognition.face_locations(frame, model='hog')\n",
    "    for (top, right, bottom, left) in boxes:\n",
    "        # draw the predicted face name on the image\n",
    "        cv2.rectangle(image, (left, top), (right, bottom), (0, 255, 0), 2)\n",
    "\n",
    "        cv2.rectangle(hog_image, (left, top), (right, bottom), (255, 255, 255), 2)\n",
    "\n",
    "```"
   ]
  },
  {
   "cell_type": "markdown",
   "metadata": {},
   "source": [
    "### Step 2: Facial Landmarks"
   ]
  },
  {
   "cell_type": "markdown",
   "metadata": {},
   "source": [
    "To account for different poses of faces, we will use an algorithm called, *face landmark estimation*.  The library dlib comes with a pretrained facial landmark detector.\n",
    "\n",
    "The idea is to come up with 68 points, called landmarks, that exist on every face.  For example the outline of the eyes, bridge of the nose, top of the chin.  We use a machine learning model to find these specific points. \n",
    "\n",
    "Once the algorithm knows where the landmarks are, the algorithm can determine how to transform the picture to normalize the picture so we are making similar comparisons with other face encodings.\n",
    "\n",
    "68 Point Facial Landmarks\n",
    "\n",
    "<center><img src=\"./notebook_images/facial_landmarks_68markup.jpg\" alt=\"68Landmarks\" style=\"width: 50%;\"/></center>\n"
   ]
  },
  {
   "cell_type": "markdown",
   "metadata": {},
   "source": [
    "<center><img src=\"./notebook_images/facial_landmarks.png\" alt=\"FacePicture\" style=\"width: 50%;\"/></center>"
   ]
  },
  {
   "cell_type": "code",
   "execution_count": null,
   "metadata": {
    "ExecuteTime": {
     "end_time": "2019-09-22T19:09:12.032051Z",
     "start_time": "2019-09-22T19:08:41.464426Z"
    }
   },
   "outputs": [],
   "source": [
    "%%bash \n",
    "python face_landmarks.py -t 30"
   ]
  },
  {
   "cell_type": "markdown",
   "metadata": {},
   "source": [
    "```python\n",
    "import dlib\n",
    "\n",
    "predictor = dlib.shape_predictor(\"shape_predictor_68_face_landmarks.dat\")\n",
    "shape = predictor(gray, rect)\n",
    "\n",
    "for (x, y) in shape:\n",
    "    cv2.circle(image, (x, y), 2, (0, 255, 0), -1)\n",
    "\n",
    "```"
   ]
  },
  {
   "cell_type": "markdown",
   "metadata": {},
   "source": [
    "### Encoding Facial Landmarks"
   ]
  },
  {
   "cell_type": "markdown",
   "metadata": {},
   "source": [
    "Of the 68 facial landmark features - what are the best features and measurements to determine facial recognition?\n",
    "\n",
    "68 landmark features are used as input to a CNN (Convolutional Neural Network), that outputs a  128 element vector.  \n",
    "\n",
    "What do the 128 values represent?\n",
    "\n",
    "Like many neural networks - we do not really know.  It turns out that Deep Learning Neural Networks are actually much better at determining how the interaction of the 68 landmark features should be combined than a person would be.\n",
    "\n",
    "The process of training a CNN to output accurate face encodings from any face image requires a great deal of training data.  However, once the neural network has been trained, and the weigths are known - generating the 128 element vector for a new image is relatively fast."
   ]
  },
  {
   "cell_type": "markdown",
   "metadata": {
    "ExecuteTime": {
     "end_time": "2019-08-07T16:35:25.560179Z",
     "start_time": "2019-08-07T16:35:25.556801Z"
    }
   },
   "source": [
    "<center><img src=\"./notebook_images/landmarks_cnn_128.png\" alt=\"cnn\" style=\"width: 100%;\"/></center>"
   ]
  },
  {
   "cell_type": "markdown",
   "metadata": {},
   "source": [
    "Lets take a look at some of the encoding values in realtime.  In this case of the 128 we will look at indexes:\n",
    "\n",
    "* Index 0\n",
    "\n",
    "* Index 32\n",
    "\n",
    "* Index 64\n",
    "\n",
    "* Index 96\n",
    "\n",
    "* Index 127\n"
   ]
  },
  {
   "cell_type": "markdown",
   "metadata": {},
   "source": [
    "<center><img src=\"./notebook_images/landmark_encoding_values.png\" alt=\"cnn\" style=\"width: 50%;\"/></center>"
   ]
  },
  {
   "cell_type": "code",
   "execution_count": null,
   "metadata": {
    "ExecuteTime": {
     "end_time": "2019-09-22T19:10:16.031787Z",
     "start_time": "2019-09-22T19:09:44.541372Z"
    }
   },
   "outputs": [],
   "source": [
    "%%bash \n",
    "python encodings_display.py -t 20"
   ]
  },
  {
   "cell_type": "markdown",
   "metadata": {},
   "source": [
    "```python\n",
    "import face_recognition\n",
    "\n",
    "boxes = face_recognition.face_locations(image, model='hog')\n",
    "encodings = face_recognition.face_encodings(image, boxes)\n",
    "\n",
    "```"
   ]
  },
  {
   "cell_type": "markdown",
   "metadata": {},
   "source": [
    "#### Encode Facial Images\n",
    "\n",
    "Lets take some pictures and add the encodings to the collection of existing encodings.\n",
    "\n",
    "This dataset is from the PyImageSearch article and includes characters from Jurassic Park.\n",
    "\n",
    "[PyImageSearch Face Recognition Article](https://www.pyimagesearch.com/2018/06/18/face-recognition-with-opencv-python-and-deep-learning/)\n",
    "\n",
    "We will use pictures from 6 characters and a set of my pictures.  We will create encodings for every picture and label the encoding the name of the person.  After we have all of the encodings we will be ready to perform facial recognition."
   ]
  },
  {
   "cell_type": "markdown",
   "metadata": {
    "ExecuteTime": {
     "end_time": "2019-08-07T17:56:56.887726Z",
     "start_time": "2019-08-07T17:56:56.881798Z"
    }
   },
   "source": [
    "<table>\n",
    "<td> <img src=\"./notebook_images/alan_grant_collage.png\" alt=\"Drawing\" style=\"width: 250px;\"/> </td>\n",
    "<td> <img src=\"./notebook_images/claire_dearing_collage.png\" alt=\"Drawing\" style=\"width: 250px;\"/> </td>\n",
    "<td> <img src=\"./notebook_images/ellie_sattler_collage.png\" alt=\"Drawing\" style=\"width: 250px;\"/> </td>\n",
    "</tr>\n",
    "    <tr>\n",
    "<td> <img src=\"./notebook_images/ian_malcolm_collage.png\" alt=\"Drawing\" style=\"width: 250px;\"/> </td>\n",
    "<td> <img src=\"./notebook_images/john_hammond_collage.png\" alt=\"Drawing\" style=\"width: 250px;\"/> </td>\n",
    "<td> <img src=\"./notebook_images/owen_grady_collage.png\" alt=\"Drawing\" style=\"width: 250px;\"/> </td>\n",
    "</tr>\n",
    "\n",
    "\n",
    "</table>"
   ]
  },
  {
   "cell_type": "markdown",
   "metadata": {},
   "source": [
    "I have included my own set of images\n",
    "\n",
    "\n",
    "<center><img src=\"./notebook_images/pat_ryan_collage.png\" alt=\"cnn\" style=\"width: 50%;\"/></center>"
   ]
  },
  {
   "cell_type": "code",
   "execution_count": null,
   "metadata": {
    "ExecuteTime": {
     "end_time": "2019-09-22T19:10:48.275544Z",
     "start_time": "2019-09-22T19:10:48.258929Z"
    }
   },
   "outputs": [],
   "source": [
    "%%bash\n",
    "tree -d images/dataset "
   ]
  },
  {
   "cell_type": "code",
   "execution_count": null,
   "metadata": {
    "ExecuteTime": {
     "end_time": "2019-08-07T18:55:54.628065Z",
     "start_time": "2019-08-07T18:54:50.688095Z"
    }
   },
   "outputs": [],
   "source": [
    "%%bash\n",
    "# only run this if we need recreate the base encodings\n",
    "python create_facial_encodings.py -d images/dataset -e encodings/facial_encodings.pkl -r true\n"
   ]
  },
  {
   "cell_type": "markdown",
   "metadata": {},
   "source": [
    "### Step 4: Determining the person's identity"
   ]
  },
  {
   "cell_type": "markdown",
   "metadata": {},
   "source": [
    "The last step is to determine the person in the datastore of known people who has the 'closest' measurements to the image we are testing.\n",
    "\n",
    "For this, a simple Euclidean distance calculation can be performed.\n",
    "\n",
    "distance(f1, f2) = $\\sqrt{(f1_1-f2_1)^2 + (f1_2-f2_2)^2 + ... + (f1_{128}-f2_{128})^2}$\n",
    "\n"
   ]
  },
  {
   "cell_type": "markdown",
   "metadata": {
    "ExecuteTime": {
     "end_time": "2019-08-06T21:16:06.205800Z",
     "start_time": "2019-08-06T21:16:06.202183Z"
    }
   },
   "source": [
    "\n",
    "We take the unknown facial image encodings and compare that against the known facial image encodings by calculating a distance.  The *threshold* is a parameter that can be changed to fine tune when the distance is considered a match or not.  The default value is 0.6.  If you to reduce the threshold this will reduce the false positives. This will make it more restrictive on when it determines there is a facial match. Lower the threshold value to around 0.5.  You might need to work with this threshold to get the performance you would like.\n",
    "\n",
    "If the distance between the two facial encodings is less than the threshold, 0.6 by default, then this is considered a match.\n"
   ]
  },
  {
   "cell_type": "markdown",
   "metadata": {},
   "source": [
    "The facial_recognition library has the matching built in, but we could also use the *k-nearest neighbors* classifier from scikit learn."
   ]
  },
  {
   "cell_type": "markdown",
   "metadata": {},
   "source": [
    "Using a picture that has never been encoded, lets calculate the distance from all of the faces that have been encoded.\n",
    "\n",
    "<center><img src=\"./images/pat_ryan_linkedin/pat.ryan.smaller.png\" alt=\"PRLinkedIn\" style=\"width: 25%;\"/></center>"
   ]
  },
  {
   "cell_type": "code",
   "execution_count": null,
   "metadata": {
    "ExecuteTime": {
     "end_time": "2019-09-22T19:11:21.529071Z",
     "start_time": "2019-09-22T19:11:20.211777Z"
    }
   },
   "outputs": [],
   "source": [
    "%%bash\n",
    "python calculate_encoding_distance.py -i images/pat_ryan_linkedin/pat.ryan.smaller.png -e encodings/facial_encodings.pkl"
   ]
  },
  {
   "cell_type": "markdown",
   "metadata": {},
   "source": [
    "```python\n",
    "\n",
    "from face_recognition.api import face_distance\n",
    "\n",
    "distance_results = face_distance(encodings, new_encoded_image)\n",
    "```"
   ]
  },
  {
   "cell_type": "markdown",
   "metadata": {},
   "source": [
    "Now lets try with real time video feed"
   ]
  },
  {
   "cell_type": "code",
   "execution_count": null,
   "metadata": {
    "ExecuteTime": {
     "end_time": "2019-09-22T19:59:31.902685Z",
     "start_time": "2019-09-22T19:59:26.253494Z"
    }
   },
   "outputs": [],
   "source": [
    "%%bash\n",
    "python video_facial_recognition.py -e encodings/facial_encodings.pkl --distance-tolerance 0.5"
   ]
  },
  {
   "cell_type": "markdown",
   "metadata": {},
   "source": [
    "## Photo Booth\n",
    "\n",
    "<center><img src=\"./notebook_images/photo_booth.jpg\" alt=\"PRLinkedIn\" style=\"width: 75%;\"/></center>"
   ]
  },
  {
   "cell_type": "markdown",
   "metadata": {},
   "source": [
    "Lets have someone come up and we can capture new pictures, calcuate the encodings and perform facial recognition."
   ]
  },
  {
   "cell_type": "markdown",
   "metadata": {},
   "source": [
    "### Capture New Facial Images"
   ]
  },
  {
   "cell_type": "code",
   "execution_count": null,
   "metadata": {
    "ExecuteTime": {
     "end_time": "2019-09-22T19:49:04.862768Z",
     "start_time": "2019-09-22T19:48:33.218032Z"
    }
   },
   "outputs": [],
   "source": [
    "%%bash\n",
    "python capture_webcam_face_images.py -d images/dataset -n ernest_t_bass -c 10"
   ]
  },
  {
   "cell_type": "markdown",
   "metadata": {},
   "source": [
    "### Verify the images are in the dataset"
   ]
  },
  {
   "cell_type": "code",
   "execution_count": null,
   "metadata": {
    "ExecuteTime": {
     "end_time": "2019-09-22T19:38:02.695629Z",
     "start_time": "2019-09-22T19:38:02.680855Z"
    }
   },
   "outputs": [],
   "source": [
    "%%bash\n",
    "tree -d images/dataset "
   ]
  },
  {
   "cell_type": "markdown",
   "metadata": {},
   "source": [
    "<table>\n",
    "<td> <img src=\"./images/dataset/ernest_t_bass/ernest_t_bass_0.png\" alt=\"Drawing\" style=\"width: 250px;\"/> </td>\n",
    "<td> <img src=\"./images/dataset/ernest_t_bass/ernest_t_bass_1.png\" alt=\"Drawing\" style=\"width: 250px;\"/> </td>\n",
    "<td> <img src=\"./images/dataset/ernest_t_bass/ernest_t_bass_2.png\" alt=\"Drawing\" style=\"width: 250px;\"/> </td>\n",
    "</tr>\n",
    "    <tr>\n",
    "<td> <img src=\"./images/dataset/ernest_t_bass/ernest_t_bass_3.png\" alt=\"Drawing\" style=\"width: 250px;\"/> </td>\n",
    "<td> <img src=\"./images/dataset/ernest_t_bass/ernest_t_bass_4.png\" alt=\"Drawing\" style=\"width: 250px;\"/> </td>\n",
    "<td> <img src=\"./images/dataset/ernest_t_bass/ernest_t_bass_5.png\" alt=\"Drawing\" style=\"width: 250px;\"/> </td>\n",
    "</tr>\n",
    "    <tr>\n",
    "<td> <img src=\"./images/dataset/ernest_t_bass/ernest_t_bass_6.png\" alt=\"Drawing\" style=\"width: 250px;\"/> </td>\n",
    "<td> <img src=\"./images/dataset/ernest_t_bass/ernest_t_bass_7.png\" alt=\"Drawing\" style=\"width: 250px;\"/> </td>\n",
    "<td> <img src=\"./images/dataset/ernest_t_bass/ernest_t_bass_8.png\" alt=\"Drawing\" style=\"width: 250px;\"/> </td>\n",
    "</tr>\n",
    "    <tr>\n",
    "<td> <img src=\"./images/dataset/ernest_t_bass/ernest_t_bass_9.png\" alt=\"Drawing\" style=\"width: 250px;\"/> </td>\n",
    "<td> </td>\n",
    "<td> </td>\n",
    "</tr>\n",
    "\n",
    "\n",
    "\n",
    "\n",
    "</table>"
   ]
  },
  {
   "cell_type": "markdown",
   "metadata": {},
   "source": [
    "### Create Facial Encodings"
   ]
  },
  {
   "cell_type": "code",
   "execution_count": null,
   "metadata": {
    "ExecuteTime": {
     "end_time": "2019-09-22T19:38:21.470330Z",
     "start_time": "2019-09-22T19:38:16.461970Z"
    }
   },
   "outputs": [],
   "source": [
    "%%bash\n",
    "# only run this if we need recreate the base encodings\n",
    "python create_facial_encodings.py -d images/dataset/ernest_t_bass -e encodings/facial_encodings.pkl"
   ]
  },
  {
   "cell_type": "markdown",
   "metadata": {},
   "source": [
    "### Run Facial Recognition"
   ]
  },
  {
   "cell_type": "code",
   "execution_count": null,
   "metadata": {
    "ExecuteTime": {
     "end_time": "2019-09-22T19:38:33.030239Z",
     "start_time": "2019-09-22T19:38:24.650567Z"
    }
   },
   "outputs": [],
   "source": [
    "%%bash\n",
    "python video_facial_recognition.py -e encodings/facial_encodings.pkl --distance-tolerance 0.5"
   ]
  },
  {
   "cell_type": "markdown",
   "metadata": {},
   "source": [
    "### Remove named encodings"
   ]
  },
  {
   "cell_type": "code",
   "execution_count": null,
   "metadata": {
    "ExecuteTime": {
     "end_time": "2019-09-22T19:59:05.920198Z",
     "start_time": "2019-09-22T19:59:05.795025Z"
    }
   },
   "outputs": [],
   "source": [
    "%%bash\n",
    "python remove_name_from_encodings.py -n ernest_t_bass"
   ]
  },
  {
   "cell_type": "markdown",
   "metadata": {
    "heading_collapsed": true
   },
   "source": [
    "## Closing Thoughts"
   ]
  },
  {
   "cell_type": "markdown",
   "metadata": {
    "hidden": true
   },
   "source": [
    "Facial recognition is the technology Genie that we cannot put back into the bottle.  \n",
    "\n",
    "While facial recognition at the scale of China will likely use other technologies, todays libraries make it incredibly easy to perform facial recognition.\n",
    "\n",
    "You may never have to perform facial recognition in your work, but it still is important to understand how this technology can be incorporated into different applications and how easy it is.\n",
    "\n",
    "### What else can we do with this\n",
    "\n",
    "Have you ever heard people say, 'oh you look just like your father', or 'I cannot tell you and your sister apart sometimes'\n",
    "\n",
    "With the information in this notebook, you can find out just how close to, or similar to, another person you really are.\n"
   ]
  },
  {
   "cell_type": "markdown",
   "metadata": {
    "heading_collapsed": true
   },
   "source": [
    "## Sources:\n",
    "\n",
    "### PyImageSearch\n",
    "PyImageSearch.com is an amazing resource for Deep Learning and computer vision. Adrian has a tremendous amount of free articles.  I would also encourage you to check out the books he has written.  The books that I have read have been really well done and worth the money.\n",
    "\n",
    "[PyImageSearch Face Recognition Article](https://www.pyimagesearch.com/2018/06/18/face-recognition-with-opencv-python-and-deep-learning/)\n",
    "\n",
    "### Machine Learning Is Fun\n",
    "Adam is the person that created the *face_recognition* library that makes all of this so easy.  His book is also a very good read and covers much more than just computer vision.  A lot of inspiration for this notebook came from his book and articles.\n",
    "\n",
    "[Machine Learning Is Fun](https://www.machinelearningisfun.com)\n",
    "\n",
    "### Scikit Image\n",
    "As usual, the scikit documentation does not disappoint.  This example shows how to display the HOG image\n",
    "[Scikit Image](https://scikit-image.org/docs/dev/auto_examples/features_detection/plot_hog.html)\n",
    "\n",
    "### Italojs\n",
    "Thank you for sharing your github repo with the example code to display the facial landmarks.\n",
    "[Italojs Github](https://github.com/youngsoul/facial-landmarks-recognition-)\n",
    "\n",
    "\n",
    "\n"
   ]
  }
 ],
 "metadata": {
  "kernelspec": {
   "display_name": "Python 3",
   "language": "python",
   "name": "python3"
  },
  "language_info": {
   "codemirror_mode": {
    "name": "ipython",
    "version": 3
   },
   "file_extension": ".py",
   "mimetype": "text/x-python",
   "name": "python",
   "nbconvert_exporter": "python",
   "pygments_lexer": "ipython3",
   "version": "3.7.2"
  },
  "toc": {
   "base_numbering": 1,
   "nav_menu": {},
   "number_sections": true,
   "sideBar": true,
   "skip_h1_title": false,
   "title_cell": "Table of Contents",
   "title_sidebar": "Contents",
   "toc_cell": false,
   "toc_position": {},
   "toc_section_display": true,
   "toc_window_display": false
  }
 },
 "nbformat": 4,
 "nbformat_minor": 2
}
